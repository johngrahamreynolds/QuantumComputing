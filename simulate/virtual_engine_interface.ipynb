{
  "cells": [
    {
      "cell_type": "markdown",
      "metadata": {
        "id": "DkA0Fobtb9dM"
      },
      "source": [
        "##### Copyright 2022 The Cirq Developers"
      ]
    },
    {
      "cell_type": "code",
      "execution_count": null,
      "metadata": {
        "cellView": "form",
        "id": "tUshu7YfcAAW"
      },
      "outputs": [],
      "source": [
        "# @title Licensed under the Apache License, Version 2.0 (the \"License\");\n",
        "# you may not use this file except in compliance with the License.\n",
        "# You may obtain a copy of the License at\n",
        "#\n",
        "# https://www.apache.org/licenses/LICENSE-2.0\n",
        "#\n",
        "# Unless required by applicable law or agreed to in writing, software\n",
        "# distributed under the License is distributed on an \"AS IS\" BASIS,\n",
        "# WITHOUT WARRANTIES OR CONDITIONS OF ANY KIND, either express or implied.\n",
        "# See the License for the specific language governing permissions and\n",
        "# limitations under the License."
      ]
    },
    {
      "cell_type": "markdown",
      "metadata": {
        "id": "5v5kLs-DU9qp"
      },
      "source": [
        "# Quantum Virtual Engine"
      ]
    },
    {
      "cell_type": "markdown",
      "metadata": {
        "id": "wRVl7p4zv8eT"
      },
      "source": [
        "<table class=\"tfo-notebook-buttons\" align=\"left\">\n",
        "  <td>\n",
        "    <a target=\"_blank\" href=\"https://quantumai.google/cirq/simulate/virtual_engine_interface\"><img src=\"https://quantumai.google/site-assets/images/buttons/quantumai_logo_1x.png\" />View on QuantumAI</a>\n",
        "  </td>\n",
        "  <td>\n",
        "    <a target=\"_blank\" href=\"https://colab.research.google.com/github/quantumlib/Cirq/blob/main/docs/simulate/virtual_engine_interface.ipynb\"><img src=\"https://quantumai.google/site-assets/images/buttons/colab_logo_1x.png\" />Run in Google Colab</a>\n",
        "  </td>\n",
        "  <td>\n",
        "    <a target=\"_blank\" href=\"https://github.com/quantumlib/Cirq/blob/main/docs/simulate/virtual_engine_interface.ipynb\"><img src=\"https://quantumai.google/site-assets/images/buttons/github_logo_1x.png\" />View source on GitHub</a>\n",
        "  </td>\n",
        "  <td>\n",
        "    <a href=\"https://storage.googleapis.com/tensorflow_docs/Cirq/docs/simulate/virtual_engine_interface.ipynb\"><img src=\"https://quantumai.google/site-assets/images/buttons/download_icon_1x.png\" />Download notebook</a>\n",
        "  </td>\n",
        "</table>"
      ]
    },
    {
      "cell_type": "markdown",
      "metadata": {
        "id": "BCeleGCgmY4y"
      },
      "source": [
        "Cirq provides the [Quantum Virtual Machine](./quantum_virtual_machine.ipynb), which consists of two components:\n",
        "- The Quantum Virtual Engine: A class that implements the same interface as `cirq_google.Engine`, allowing you to simulate circuits with the same software interface that the real hardware uses.\n",
        "- Realistic noise models that mimic the behavior of real quantum hardware.\n",
        "\n",
        "This tutorial covers the former of the two components, the Quantum Virtual Engine, and how to run circuits on existing and custom virtual processor models."
      ]
    },
    {
      "cell_type": "markdown",
      "metadata": {
        "id": "4Sif48OM1vPM"
      },
      "source": [
        "## Setup"
      ]
    },
    {
      "cell_type": "code",
      "execution_count": 2,
      "metadata": {
        "id": "AL_CcSjjmL8n",
        "colab": {
          "base_uri": "https://localhost:8080/"
        },
        "outputId": "b18be0cc-c8dc-4528-d799-f33cc7dcdf5d"
      },
      "outputs": [
        {
          "output_type": "stream",
          "name": "stdout",
          "text": [
            "installing cirq...\n",
            "\u001b[2K     \u001b[90m━━━━━━━━━━━━━━━━━━━━━━━━━━━━━━━━━━━━━━━━\u001b[0m \u001b[32m45.6/45.6 kB\u001b[0m \u001b[31m1.7 MB/s\u001b[0m eta \u001b[36m0:00:00\u001b[0m\n",
            "\u001b[?25h  Preparing metadata (setup.py) ... \u001b[?25l\u001b[?25hdone\n",
            "\u001b[2K   \u001b[90m━━━━━━━━━━━━━━━━━━━━━━━━━━━━━━━━━━━━━━━━\u001b[0m \u001b[32m1.9/1.9 MB\u001b[0m \u001b[31m26.2 MB/s\u001b[0m eta \u001b[36m0:00:00\u001b[0m\n",
            "\u001b[2K   \u001b[90m━━━━━━━━━━━━━━━━━━━━━━━━━━━━━━━━━━━━━━━━\u001b[0m \u001b[32m532.7/532.7 kB\u001b[0m \u001b[31m24.4 MB/s\u001b[0m eta \u001b[36m0:00:00\u001b[0m\n",
            "\u001b[2K   \u001b[90m━━━━━━━━━━━━━━━━━━━━━━━━━━━━━━━━━━━━━━━━\u001b[0m \u001b[32m60.5/60.5 kB\u001b[0m \u001b[31m3.1 MB/s\u001b[0m eta \u001b[36m0:00:00\u001b[0m\n",
            "\u001b[2K   \u001b[90m━━━━━━━━━━━━━━━━━━━━━━━━━━━━━━━━━━━━━━━━\u001b[0m \u001b[32m69.3/69.3 kB\u001b[0m \u001b[31m4.5 MB/s\u001b[0m eta \u001b[36m0:00:00\u001b[0m\n",
            "\u001b[2K   \u001b[90m━━━━━━━━━━━━━━━━━━━━━━━━━━━━━━━━━━━━━━━━\u001b[0m \u001b[32m596.5/596.5 kB\u001b[0m \u001b[31m29.7 MB/s\u001b[0m eta \u001b[36m0:00:00\u001b[0m\n",
            "\u001b[2K   \u001b[90m━━━━━━━━━━━━━━━━━━━━━━━━━━━━━━━━━━━━━━━━\u001b[0m \u001b[32m202.6/202.6 kB\u001b[0m \u001b[31m11.0 MB/s\u001b[0m eta \u001b[36m0:00:00\u001b[0m\n",
            "\u001b[2K   \u001b[90m━━━━━━━━━━━━━━━━━━━━━━━━━━━━━━━━━━━━━━━━\u001b[0m \u001b[32m6.8/6.8 MB\u001b[0m \u001b[31m63.9 MB/s\u001b[0m eta \u001b[36m0:00:00\u001b[0m\n",
            "\u001b[2K   \u001b[90m━━━━━━━━━━━━━━━━━━━━━━━━━━━━━━━━━━━━━━━━\u001b[0m \u001b[32m53.0/53.0 kB\u001b[0m \u001b[31m3.6 MB/s\u001b[0m eta \u001b[36m0:00:00\u001b[0m\n",
            "\u001b[2K   \u001b[90m━━━━━━━━━━━━━━━━━━━━━━━━━━━━━━━━━━━━━━━━\u001b[0m \u001b[32m2.0/2.0 MB\u001b[0m \u001b[31m52.9 MB/s\u001b[0m eta \u001b[36m0:00:00\u001b[0m\n",
            "\u001b[2K   \u001b[90m━━━━━━━━━━━━━━━━━━━━━━━━━━━━━━━━━━━━━━━━\u001b[0m \u001b[32m1.7/1.7 MB\u001b[0m \u001b[31m44.5 MB/s\u001b[0m eta \u001b[36m0:00:00\u001b[0m\n",
            "\u001b[2K   \u001b[90m━━━━━━━━━━━━━━━━━━━━━━━━━━━━━━━━━━━━━━━━\u001b[0m \u001b[32m117.8/117.8 kB\u001b[0m \u001b[31m7.9 MB/s\u001b[0m eta \u001b[36m0:00:00\u001b[0m\n",
            "\u001b[2K   \u001b[90m━━━━━━━━━━━━━━━━━━━━━━━━━━━━━━━━━━━━━━━━\u001b[0m \u001b[32m526.7/526.7 kB\u001b[0m \u001b[31m23.6 MB/s\u001b[0m eta \u001b[36m0:00:00\u001b[0m\n",
            "\u001b[?25h  Building wheel for rpcq (setup.py) ... \u001b[?25l\u001b[?25hdone\n",
            "installed cirq.\n"
          ]
        }
      ],
      "source": [
        "try:\n",
        "    import cirq\n",
        "except ImportError:\n",
        "    print(\"installing cirq...\")\n",
        "    !pip install --quiet cirq\n",
        "    print(\"installed cirq.\")\n",
        "    import cirq\n",
        "\n",
        "import cirq_google\n",
        "import sympy"
      ]
    },
    {
      "cell_type": "markdown",
      "metadata": {
        "id": "zKWtgtrYZIVy"
      },
      "source": [
        "Communication with real quantum hardware in Cirq is done through the `cirq_google.Engine` class. Each `Engine` can contain multiple quantum processors, and the `Engine` class provides functions to run circuits and manage jobs sent to those processors. The Virtual Engine in Cirq is an instance of the class `cirq_google.SimulatedLocalEngine` that runs circuits on the built-in Cirq [Simulator](./simulation.ipynb) instead of on hardware, but uses the same interface as `Engine`. This is useful for testing your circuit and code pipeline before running on actual hardware, and can be used as a substitute when the real hardware is not available.\n",
        "\n",
        "The interface implemented by both `cirq_google.Engine` and `cirq_google.SimulatedLocalEngine` is called `cirq_google.AbstractEngine`, and defines the various functions and types involved with using either option. When writing functions of your own, this interface enables you to seamlessly support simulated and real-hardware versions of the `Engine` interface."
      ]
    },
    {
      "cell_type": "markdown",
      "metadata": {
        "id": "kuso8OxNo3t0"
      },
      "source": [
        "## Instantiate a virtual Engine\n",
        "\n",
        "The easiest way to create a `cirq_google.SimulatedLocalEngine` is to make one from one or more processor templates.\n",
        "Example processor device specifications can be found in\n",
        "the [devices/specifications](https://github.com/quantumlib/Cirq/tree/main/cirq-google/cirq_google/devices/specifications) folder of `cirq_google` in the Cirq GitHub repository.  These device specifications closely match previous versions of Google quantum hardware, and can serve as templates for processors in a `SimulatedLocalEngine`. When Google hardware becomes publicly available again in the future, it will have device specifications like these that differ in details, but not in format.\n",
        "\n",
        "You can create a `cirq_google.SimulatedLocalEngine` that includes these example device specifications using `cirq_google.engine.create_noiseless_virtual_engine_from_latest_templates()`.  For example:"
      ]
    },
    {
      "cell_type": "code",
      "execution_count": 3,
      "metadata": {
        "id": "dBbX5ll_blLI"
      },
      "outputs": [],
      "source": [
        "engine = cirq_google.engine.create_noiseless_virtual_engine_from_latest_templates()"
      ]
    },
    {
      "cell_type": "markdown",
      "metadata": {
        "id": "fwoJCTe0VPxl"
      },
      "source": [
        "You can then use this Engine object to perform operations as if it included real hardware.  However, all interactions will be local and mocked with these example processors.  Program execution will be done by the cirq Simulator.\n",
        "\n",
        "For instance, you can list the processors and their device layouts, which are the same as those specified in the `devices/specification` folder:"
      ]
    },
    {
      "cell_type": "code",
      "execution_count": 4,
      "metadata": {
        "id": "wF6ay4KPVPTL",
        "colab": {
          "base_uri": "https://localhost:8080/"
        },
        "outputId": "b267f71f-ba13-4036-f699-97c6f8f77b55"
      },
      "outputs": [
        {
          "output_type": "stream",
          "name": "stdout",
          "text": [
            "rainbow\n",
            "-----------------\n",
            "                  (3, 2)\n",
            "                  │\n",
            "                  │\n",
            "         (4, 1)───(4, 2)───(4, 3)\n",
            "         │        │        │\n",
            "         │        │        │\n",
            "(5, 0)───(5, 1)───(5, 2)───(5, 3)───(5, 4)\n",
            "         │        │        │        │\n",
            "         │        │        │        │\n",
            "         (6, 1)───(6, 2)───(6, 3)───(6, 4)───(6, 5)\n",
            "                  │        │        │        │\n",
            "                  │        │        │        │\n",
            "                  (7, 2)───(7, 3)───(7, 4)───(7, 5)───(7, 6)\n",
            "                           │        │        │\n",
            "                           │        │        │\n",
            "                           (8, 3)───(8, 4)───(8, 5)\n",
            "                                    │\n",
            "                                    │\n",
            "                                    (9, 4)\n",
            "\n",
            "\n",
            "\n",
            "\n",
            "weber\n",
            "-----------------\n",
            "                                             (0, 5)───(0, 6)\n",
            "                                             │        │\n",
            "                                             │        │\n",
            "                                    (1, 4)───(1, 5)───(1, 6)───(1, 7)\n",
            "                                    │        │        │        │\n",
            "                                    │        │        │        │\n",
            "                                    (2, 4)───(2, 5)───(2, 6)───(2, 7)───(2, 8)\n",
            "                                    │        │        │        │        │\n",
            "                                    │        │        │        │        │\n",
            "                  (3, 2)───(3, 3)───(3, 4)───(3, 5)───(3, 6)───(3, 7)───(3, 8)───(3, 9)\n",
            "                  │        │        │        │        │        │        │        │\n",
            "                  │        │        │        │        │        │        │        │\n",
            "         (4, 1)───(4, 2)───(4, 3)───(4, 4)───(4, 5)───(4, 6)───(4, 7)───(4, 8)───(4, 9)\n",
            "         │        │        │        │        │        │        │        │\n",
            "         │        │        │        │        │        │        │        │\n",
            "(5, 0)───(5, 1)───(5, 2)───(5, 3)───(5, 4)───(5, 5)───(5, 6)───(5, 7)───(5, 8)\n",
            "         │        │        │        │        │        │        │\n",
            "         │        │        │        │        │        │        │\n",
            "         (6, 1)───(6, 2)───(6, 3)───(6, 4)───(6, 5)───(6, 6)───(6, 7)\n",
            "                  │        │        │        │        │\n",
            "                  │        │        │        │        │\n",
            "                  (7, 2)───(7, 3)───(7, 4)───(7, 5)───(7, 6)\n",
            "                           │        │        │\n",
            "                           │        │        │\n",
            "                           (8, 3)───(8, 4)───(8, 5)\n",
            "                                    │\n",
            "                                    │\n",
            "                                    (9, 4)\n",
            "\n",
            "\n",
            "\n",
            "\n"
          ]
        }
      ],
      "source": [
        "for proc in engine.list_processors():\n",
        "    print(proc.processor_id)\n",
        "    print('-----------------')\n",
        "    print(proc.get_device())\n",
        "    print('\\n\\n\\n')"
      ]
    },
    {
      "cell_type": "markdown",
      "metadata": {
        "id": "sXsTR4ZpXfka"
      },
      "source": [
        "## Run circuits and sweeps\n",
        "\n",
        "After creating the `SimulatedLocalEngine`, you can use any function that you might use with a normal `Engine` that has real quantum processors in it. Most importantly, this includes the ability to run circuits."
      ]
    },
    {
      "cell_type": "code",
      "execution_count": 6,
      "metadata": {
        "id": "xmEzIfseVPg4",
        "colab": {
          "base_uri": "https://localhost:8080/"
        },
        "outputId": "99ccdbef-df48-44d4-d42b-2169202615bd"
      },
      "outputs": [
        {
          "output_type": "stream",
          "name": "stdout",
          "text": [
            "q(7, 2)=0000000000\n"
          ]
        }
      ],
      "source": [
        "# Choose one of the (simulated) processors to run on.\n",
        "weber = engine.get_processor('weber')\n",
        "sampler = weber.get_sampler()\n",
        "\n",
        "# Run a simple circuit for ten repetitions\n",
        "result = sampler.run(cirq.Circuit(cirq.measure(cirq.GridQubit(7, 2))), repetitions=10)\n",
        "print(result)"
      ]
    },
    {
      "cell_type": "markdown",
      "metadata": {
        "id": "H8aIHqEBYDnr"
      },
      "source": [
        "Note that, even though this is a simulated processor device, there are still device constraints that must be met by a circit in order for it to be executed. For example, the gates and qubits used by the circuit must be supported by the device:"
      ]
    },
    {
      "cell_type": "code",
      "execution_count": 7,
      "metadata": {
        "id": "Ky1fiTLPYIqM",
        "colab": {
          "base_uri": "https://localhost:8080/"
        },
        "outputId": "b0b00b3a-2dba-4970-90db-0b51dd18e8d6"
      },
      "outputs": [
        {
          "output_type": "stream",
          "name": "stdout",
          "text": [
            "Qubit not on device: cirq.GridQubit(7, 1).\n"
          ]
        }
      ],
      "source": [
        "# Weber does not have a (7, 1) qubit.\n",
        "try:\n",
        "    sampler.run(cirq.Circuit(cirq.measure(cirq.GridQubit(7, 1))), repetitions=10)\n",
        "except ValueError as e:\n",
        "    print(e)\n",
        "\n",
        "# Weber does not support the H gate on qubit (7, 2).\n",
        "try:\n",
        "    sampler.run(\n",
        "        cirq.Circuit(cirq.H(cirq.GridQubit(7, 2)), cirq.measure(cirq.GridQubit(7, 2))),\n",
        "        repetitions=10,\n",
        "    )\n",
        "except ValueError as e:\n",
        "    print(e)"
      ]
    },
    {
      "cell_type": "markdown",
      "metadata": {
        "id": "FtCpP5evY2Ss"
      },
      "source": [
        "You can also run [Parameter Sweeps](./params.ipynb) with the `run_sweep` function, which returns a `cirq.Job`-type object instead of a `Result`. This way, jobs can be prepared and run asynchronously. When running a parameter sweep over many parameter options, or with particularly large circuits, it can be useful to set the job running and return for the results later, with the ability to check job execution status in between."
      ]
    },
    {
      "cell_type": "code",
      "execution_count": 8,
      "metadata": {
        "id": "0VECfWL0Y91w",
        "colab": {
          "base_uri": "https://localhost:8080/"
        },
        "outputId": "6ad25ff9-71a1-42eb-b403-53038b4437d3"
      },
      "outputs": [
        {
          "output_type": "stream",
          "name": "stdout",
          "text": [
            "job is type <class 'cirq_google.engine.simulated_local_job.SimulatedLocalJob'>\n",
            "job has id projects/fake_project/processors/weber/job/10 and status 1\n",
            "\n",
            "Now executing results!\n",
            "\n",
            "job has id projects/fake_project/processors/weber/job/10 and status 5\n",
            "\n",
            "Results:\n",
            "Counter({0: 1000})\n",
            "Counter({0: 982, 1: 18})\n",
            "Counter({0: 903, 1: 97})\n",
            "Counter({0: 781, 1: 219})\n",
            "Counter({0: 626, 1: 374})\n",
            "Counter({1: 534, 0: 466})\n",
            "Counter({1: 692, 0: 308})\n",
            "Counter({1: 838, 0: 162})\n",
            "Counter({1: 941, 0: 59})\n",
            "Counter({1: 993, 0: 7})\n",
            "Counter({1: 991, 0: 9})\n",
            "Counter({1: 949, 0: 51})\n",
            "Counter({1: 841, 0: 159})\n",
            "Counter({1: 690, 0: 310})\n",
            "Counter({1: 547, 0: 453})\n",
            "Counter({0: 608, 1: 392})\n",
            "Counter({0: 780, 1: 220})\n",
            "Counter({0: 892, 1: 108})\n",
            "Counter({0: 971, 1: 29})\n",
            "Counter({0: 1000})\n"
          ]
        }
      ],
      "source": [
        "qubit = cirq.GridQubit(7, 2)\n",
        "circuit = cirq.Circuit(cirq.X(qubit) ** sympy.Symbol('t'), cirq.measure(qubit, key='m'))\n",
        "job = weber.run_sweep(circuit, params=cirq.Linspace('t', 0, 2, 20), repetitions=1000)\n",
        "print(f'job is type {type(job)}')\n",
        "print(f'job has id {job.id()} and status {job.execution_status()}')\n",
        "print('')\n",
        "\n",
        "print('Now executing results!')\n",
        "results = job.results()\n",
        "print('')\n",
        "print(f'job has id {job.id()} and status {job.execution_status()}')\n",
        "\n",
        "print('')\n",
        "print('Results:')\n",
        "for result in results:\n",
        "    print(result.histogram(key='m'))"
      ]
    },
    {
      "cell_type": "markdown",
      "metadata": {
        "id": "tRaVuulAbYat"
      },
      "source": [
        "## Reservations and scheduling\n",
        "\n",
        "Other functions are available to `Engine` classes that are part of using the `Engine` as a service. These include reservations, scheduling, downtime, and others. Thes functions are also available with the virtual processors, though all of them will generally succeed since there are no other users using the virtual service."
      ]
    },
    {
      "cell_type": "code",
      "execution_count": 10,
      "metadata": {
        "id": "Qc_zkuzdOCVn",
        "colab": {
          "base_uri": "https://localhost:8080/"
        },
        "outputId": "cc5cd81a-f7d4-4f38-a2cd-fd343ca2134d"
      },
      "outputs": [
        {
          "output_type": "stream",
          "name": "stdout",
          "text": [
            "Next expected downtime: None\n",
            "Next expected recovery: None\n",
            "Cannot reserve time, did you already reserve it?  Error:\n",
            "Time slot is not available for reservations\n",
            "\n",
            "Reservations:\n",
            "---------------\n",
            "[name: \"projects/fake_project/processors/weber/reservation/11\"\n",
            "start_time {\n",
            "  seconds: 1722458046\n",
            "}\n",
            "end_time {\n",
            "  seconds: 1722461646\n",
            "}\n",
            ", name: \"projects/fake_project/processors/weber/reservation/12\"\n",
            "start_time {\n",
            "  seconds: 1722465246\n",
            "}\n",
            "end_time {\n",
            "  seconds: 1722468846\n",
            "}\n",
            "whitelisted_users: \"mysterious_fake_user@nonexistentwebsite.domain\"\n",
            "]\n"
          ]
        }
      ],
      "source": [
        "print(f'Next expected downtime: {weber.expected_down_time()}')\n",
        "print(f'Next expected recovery: {weber.expected_recovery_time()}')\n",
        "\n",
        "# Creating two example reservations\n",
        "import datetime\n",
        "\n",
        "now = datetime.datetime.now()\n",
        "hour = datetime.timedelta(hours=1)\n",
        "try:\n",
        "    weber.create_reservation(start_time=now, end_time=now + hour)\n",
        "    weber.create_reservation(\n",
        "        start_time=now + 2 * hour,\n",
        "        end_time=now + 3 * hour,\n",
        "        whitelisted_users=['mysterious_fake_user@nonexistentwebsite.domain'],\n",
        "    )\n",
        "except ValueError as e:\n",
        "    # If you re-run this cell, it will note that you already have a reservation\n",
        "    print('Cannot reserve time, did you already reserve it?  Error:')\n",
        "    print(e)\n",
        "\n",
        "print('')\n",
        "print('Reservations:')\n",
        "print('---------------')\n",
        "print(f'{weber.list_reservations()}')"
      ]
    },
    {
      "cell_type": "markdown",
      "metadata": {
        "id": "Y0CyKooF2k0_"
      },
      "source": [
        "The processor also comes with a stock calibration metric report. By default, all of the error values are zero."
      ]
    },
    {
      "cell_type": "code",
      "execution_count": 11,
      "metadata": {
        "id": "an5RBcbK2jNs",
        "colab": {
          "base_uri": "https://localhost:8080/"
        },
        "outputId": "aa212710-60d0-4166-866d-68cf3ffdbc33"
      },
      "outputs": [
        {
          "output_type": "stream",
          "name": "stdout",
          "text": [
            "Calibrations:\n",
            "---------------\n",
            "Calibration metrics: \n",
            "    ['single_qubit_p00_error', 'single_qubit_p11_error', 'single_qubit_readout_separation_error', 'parallel_p00_error', 'parallel_p11_error', 'single_qubit_rb_average_error_per_gate', 'single_qubit_rb_incoherent_error_per_gate', 'single_qubit_rb_pauli_error_per_gate', 'two_qubit_sycamore_gate_xeb_average_error_per_cycle', 'two_qubit_sycamore_gate_xeb_pauli_error_per_cycle', 'two_qubit_sycamore_gate_xeb_incoherent_error_per_cycle', 'two_qubit_sqrt_iswap_gate_xeb_average_error_per_cycle', 'two_qubit_sqrt_iswap_gate_xeb_pauli_error_per_cycle', 'two_qubit_sqrt_iswap_gate_xeb_incoherent_error_per_cycle', 'two_qubit_parallel_sycamore_gate_xeb_average_error_per_cycle', 'two_qubit_parallel_sycamore_gate_xeb_pauli_error_per_cycle', 'two_qubit_parallel_sycamore_gate_xeb_incoherent_error_per_cycle', 'two_qubit_parallel_sqrt_iswap_gate_xeb_average_error_per_cycle', 'two_qubit_parallel_sqrt_iswap_gate_xeb_pauli_error_per_cycle', 'two_qubit_parallel_sqrt_iswap_gate_xeb_incoherent_error_per_cycle', 'single_qubit_idle_t1_micros']\n",
            "single_qubit_p00_error\n",
            "   (cirq.GridQubit(7, 3),): [0.0]\n",
            "   (cirq.GridQubit(4, 8),): [0.0]\n",
            "   (cirq.GridQubit(5, 4),): [0.0]\n",
            "two_qubit_sycamore_gate_xeb_average_error_per_cycle\n",
            "   (cirq.GridQubit(0, 5), cirq.GridQubit(0, 6)): [0.0]\n",
            "   (cirq.GridQubit(0, 5), cirq.GridQubit(1, 5)): [0.0]\n",
            "   (cirq.GridQubit(0, 6), cirq.GridQubit(1, 6)): [0.0]\n"
          ]
        }
      ],
      "source": [
        "print('Calibrations:')\n",
        "print('---------------')\n",
        "calibration = weber.list_calibrations()[0]\n",
        "print(f\"Calibration metrics: \\n    {list(calibration.keys())}\")\n",
        "# Example calibration data\n",
        "for metric in [\"single_qubit_p00_error\", \"two_qubit_sycamore_gate_xeb_average_error_per_cycle\"]:\n",
        "    print(metric)\n",
        "    data = calibration[metric]\n",
        "    # Only print the first couple qubits/qubit pairs\n",
        "    for key in list(data.keys())[:3]:\n",
        "        print(f'   {key}: {data[key]}')"
      ]
    },
    {
      "cell_type": "markdown",
      "metadata": {
        "id": "XFsv1dkrQqIs"
      },
      "source": [
        "## Create a custom processor from a device\n",
        "\n",
        "You can also create processors to mimic other devices as needed.  Each of these classes is customizable and can be modified to suit your simulation needs.\n",
        "\n",
        "You can create processors from existing devices, like `cirq_google.Sycamore`, with `cirq_google.engine.create_noiseless_virtual_engine_from_device`:"
      ]
    },
    {
      "cell_type": "code",
      "execution_count": 12,
      "metadata": {
        "id": "TBdZgcyGRFKy",
        "colab": {
          "base_uri": "https://localhost:8080/"
        },
        "outputId": "e8086756-4e6a-473d-92b8-383a9aafbacf"
      },
      "outputs": [
        {
          "output_type": "stream",
          "name": "stdout",
          "text": [
            "['sycamore']\n",
            "                                             (0, 5)───(0, 6)\n",
            "                                             │        │\n",
            "                                             │        │\n",
            "                                    (1, 4)───(1, 5)───(1, 6)───(1, 7)\n",
            "                                    │        │        │        │\n",
            "                                    │        │        │        │\n",
            "                           (2, 3)───(2, 4)───(2, 5)───(2, 6)───(2, 7)───(2, 8)\n",
            "                           │        │        │        │        │        │\n",
            "                           │        │        │        │        │        │\n",
            "                  (3, 2)───(3, 3)───(3, 4)───(3, 5)───(3, 6)───(3, 7)───(3, 8)───(3, 9)\n",
            "                  │        │        │        │        │        │        │        │\n",
            "                  │        │        │        │        │        │        │        │\n",
            "         (4, 1)───(4, 2)───(4, 3)───(4, 4)───(4, 5)───(4, 6)───(4, 7)───(4, 8)───(4, 9)\n",
            "         │        │        │        │        │        │        │        │\n",
            "         │        │        │        │        │        │        │        │\n",
            "(5, 0)───(5, 1)───(5, 2)───(5, 3)───(5, 4)───(5, 5)───(5, 6)───(5, 7)───(5, 8)\n",
            "         │        │        │        │        │        │        │\n",
            "         │        │        │        │        │        │        │\n",
            "         (6, 1)───(6, 2)───(6, 3)───(6, 4)───(6, 5)───(6, 6)───(6, 7)\n",
            "                  │        │        │        │        │\n",
            "                  │        │        │        │        │\n",
            "                  (7, 2)───(7, 3)───(7, 4)───(7, 5)───(7, 6)\n",
            "                           │        │        │\n",
            "                           │        │        │\n",
            "                           (8, 3)───(8, 4)───(8, 5)\n",
            "                                    │\n",
            "                                    │\n",
            "                                    (9, 4)\n"
          ]
        }
      ],
      "source": [
        "sycamore_engine = cirq_google.engine.create_noiseless_virtual_engine_from_device(\n",
        "    'sycamore', cirq_google.Sycamore\n",
        ")\n",
        "\n",
        "# Note that the previous function creates an engine with just one processor\n",
        "print([proc.processor_id for proc in sycamore_engine.list_processors()])\n",
        "print(sycamore_engine.get_processor('sycamore').get_device())"
      ]
    },
    {
      "cell_type": "markdown",
      "metadata": {
        "id": "n0CXvI0XR9iv"
      },
      "source": [
        "## Create a custom processor from a specification\n",
        "\n",
        "You can also create virtual engines from device specifications written in the [Protocol Buffer](https://developers.google.com/protocol-buffers) structured-data file format. This allows for detailed custom device creation, in the case where you want to see how a slightly modified existing device, or a completely new device, would work in Cirq.\n",
        "\n",
        "The previous specification files mentioned in the [devices/specifications](https://github.com/quantumlib/Cirq/tree/main/cirq-google/cirq_google/devices/specifications) in the Cirq repository are already in this file format. The details of this format are subject to change as Cirq is updated, but it is designed to be human-readable. If you want to work with a very custom device, the best place to start is by inspecting one of these files, but be aware that the format may change without notice."
      ]
    },
    {
      "cell_type": "code",
      "execution_count": 13,
      "metadata": {
        "id": "WS8vRtvMRxBj",
        "colab": {
          "base_uri": "https://localhost:8080/"
        },
        "outputId": "b9afc0d2-c6b9-48d1-b903-2816906cab6c"
      },
      "outputs": [
        {
          "output_type": "stream",
          "name": "stdout",
          "text": [
            "Processor: rainbow\n",
            "valid_qubits: \"3_2\"\n",
            "valid_qubits: \"4_1\"\n",
            "valid_qubits: \"4_2\"\n",
            "valid_qubits: \"4_3\"\n",
            "valid_qubits: \"5_0\"\n",
            "valid_qubits: \"5_1\"\n",
            "valid_qubits: \"5_2\"\n",
            "valid_qubits: \"5_3\"\n",
            "valid_qubits: \"5_4\"\n",
            "valid_qubits: \"6_1\"\n",
            "...\n"
          ]
        }
      ],
      "source": [
        "import importlib\n",
        "from cirq_google.devices import specifications\n",
        "\n",
        "# Get the processor identifier and file location from MOST_RECENT_TEMPLATES.\n",
        "processor_id, template_name = next(\n",
        "    iter(cirq_google.engine.virtual_engine_factory.MOST_RECENT_TEMPLATES.items())\n",
        ")\n",
        "# Read the protobuf template.\n",
        "device_str = importlib.resources.read_text(specifications, template_name)\n",
        "# Print just the first 10 lines of the very long protobuf specification.\n",
        "print(f'Processor: {processor_id}')\n",
        "print('\\n'.join(device_str.splitlines()[:10]))\n",
        "print('...')"
      ]
    },
    {
      "cell_type": "markdown",
      "metadata": {
        "id": "MoPt-4l3B6-x"
      },
      "source": [
        "In order to use this specification protobuf file string, parse it with `google.protobuf.text_format` and create the `SimulatedLocalEngine` with `cirq_google.engine.create_noiseless_virtual_engine_from_proto`.\n"
      ]
    },
    {
      "cell_type": "code",
      "execution_count": 14,
      "metadata": {
        "id": "0Ix-jMPvB5qV",
        "colab": {
          "base_uri": "https://localhost:8080/"
        },
        "outputId": "cab4c2e8-640a-4d1e-94f4-4af92972123d"
      },
      "outputs": [
        {
          "output_type": "stream",
          "name": "stdout",
          "text": [
            "['rainbow']\n",
            "                  (3, 2)\n",
            "                  │\n",
            "                  │\n",
            "         (4, 1)───(4, 2)───(4, 3)\n",
            "         │        │        │\n",
            "         │        │        │\n",
            "(5, 0)───(5, 1)───(5, 2)───(5, 3)───(5, 4)\n",
            "         │        │        │        │\n",
            "         │        │        │        │\n",
            "         (6, 1)───(6, 2)───(6, 3)───(6, 4)───(6, 5)\n",
            "                  │        │        │        │\n",
            "                  │        │        │        │\n",
            "                  (7, 2)───(7, 3)───(7, 4)───(7, 5)───(7, 6)\n",
            "                           │        │        │\n",
            "                           │        │        │\n",
            "                           (8, 3)───(8, 4)───(8, 5)\n",
            "                                    │\n",
            "                                    │\n",
            "                                    (9, 4)\n",
            "results \n",
            "\n",
            "Qubit not on device: cirq.GridQubit(1, 1).\n"
          ]
        }
      ],
      "source": [
        "import google.protobuf.text_format as text_format\n",
        "\n",
        "# Import the spec.\n",
        "device_spec = cirq_google.api.v2.device_pb2.DeviceSpecification()\n",
        "text_format.Parse(device_str, device_spec)\n",
        "four_engine = cirq_google.engine.create_noiseless_virtual_engine_from_proto(\n",
        "    processor_id, device_spec\n",
        ")\n",
        "# Prepare a sampler.\n",
        "print([proc.processor_id for proc in four_engine.list_processors()])\n",
        "processor = four_engine.get_processor(processor_id)\n",
        "print(processor.get_device())\n",
        "sampler = processor.get_sampler()\n",
        "\n",
        "q1_1 = cirq.GridQubit(1, 1)\n",
        "q1_2 = cirq.GridQubit(1, 2)\n",
        "q2_1 = cirq.GridQubit(2, 1)\n",
        "# Run a circuit with one each of Z, CZ, Measure, and CircuitOperation.\n",
        "circuit = cirq.Circuit(\n",
        "    cirq.CircuitOperation(cirq.FrozenCircuit(cirq.Z(q2_1), cirq.CZ(q1_1, q1_2))),\n",
        "    cirq.measure(q1_1),\n",
        "    cirq.measure(q2_1),\n",
        ")\n",
        "print('results', '\\n')\n",
        "try:\n",
        "    print(sampler.run(circuit))\n",
        "except ValueError as e:\n",
        "    print(e)"
      ]
    },
    {
      "cell_type": "markdown",
      "metadata": {
        "id": "zOtDbCSas8qm"
      },
      "source": [
        "# Summary\n",
        "\n",
        "Cirq provides the `cirq.SimulatedLocalEngine`. which allows you to run circuits on the Cirq Simulator through the same interface as the `cirq.Engine` object, which is used for running on real quantum hardware. This is useful both as a preparation step before running on real quantum hardware, and as a substitute when real hardware is unavailable.\n",
        "\n",
        "As presented in this page, the virtual Engine is completely noiseless. In order to learn about using the virtual Engine with noise models, including realistic noise models which closely mimic actual hardware, see the [Quantum Virtual Machine](./quantum_virtual_machine.ipynb) page."
      ]
    }
  ],
  "metadata": {
    "colab": {
      "name": "virtual_engine_interface.ipynb",
      "toc_visible": true,
      "provenance": []
    },
    "kernelspec": {
      "display_name": "Python 3",
      "name": "python3"
    }
  },
  "nbformat": 4,
  "nbformat_minor": 0
}