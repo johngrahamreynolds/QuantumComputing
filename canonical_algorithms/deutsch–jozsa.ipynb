{
  "nbformat": 4,
  "nbformat_minor": 0,
  "metadata": {
    "colab": {
      "provenance": [],
      "authorship_tag": "ABX9TyNRkKOtF8NpDDJ8Fecij0HP",
      "include_colab_link": true
    },
    "kernelspec": {
      "name": "python3",
      "display_name": "Python 3"
    },
    "language_info": {
      "name": "python"
    }
  },
  "cells": [
    {
      "cell_type": "markdown",
      "metadata": {
        "id": "view-in-github",
        "colab_type": "text"
      },
      "source": [
        "<a href=\"https://colab.research.google.com/github/johngrahamreynolds/QuantumComputing/blob/main/canonical_algorithms/deutsch%E2%80%93jozsa.ipynb\" target=\"_parent\"><img src=\"https://colab.research.google.com/assets/colab-badge.svg\" alt=\"Open In Colab\"/></a>"
      ]
    },
    {
      "cell_type": "markdown",
      "source": [
        "## The Deutsch and Deutsch–Jozsa algorithms\n",
        "#### This Colab implements the Deutsch algorithm using Cirq before discussing its generalization, the Deutsch–Jozsa algorithm\n",
        "\n",
        "###### johngrahamreynolds@gmail.com"
      ],
      "metadata": {
        "id": "eQvbTbkVC0O9"
      }
    },
    {
      "cell_type": "markdown",
      "source": [
        "First we install Cirq and import relevant packages to our workspace"
      ],
      "metadata": {
        "id": "k8lTdnpsuNz3"
      }
    },
    {
      "cell_type": "code",
      "execution_count": 1,
      "metadata": {
        "id": "oR5RJFQqCKAL",
        "colab": {
          "base_uri": "https://localhost:8080/"
        },
        "outputId": "b295b0f9-c78d-4fcd-f6cc-3772f072b399"
      },
      "outputs": [
        {
          "output_type": "stream",
          "name": "stdout",
          "text": [
            "installing cirq...\n",
            "\u001b[2K     \u001b[90m━━━━━━━━━━━━━━━━━━━━━━━━━━━━━━━━━━━━━━━━\u001b[0m \u001b[32m45.6/45.6 kB\u001b[0m \u001b[31m285.7 kB/s\u001b[0m eta \u001b[36m0:00:00\u001b[0m\n",
            "\u001b[?25h  Preparing metadata (setup.py) ... \u001b[?25l\u001b[?25hdone\n",
            "\u001b[2K   \u001b[90m━━━━━━━━━━━━━━━━━━━━━━━━━━━━━━━━━━━━━━━━\u001b[0m \u001b[32m1.9/1.9 MB\u001b[0m \u001b[31m7.7 MB/s\u001b[0m eta \u001b[36m0:00:00\u001b[0m\n",
            "\u001b[2K   \u001b[90m━━━━━━━━━━━━━━━━━━━━━━━━━━━━━━━━━━━━━━━━\u001b[0m \u001b[32m532.7/532.7 kB\u001b[0m \u001b[31m20.3 MB/s\u001b[0m eta \u001b[36m0:00:00\u001b[0m\n",
            "\u001b[2K   \u001b[90m━━━━━━━━━━━━━━━━━━━━━━━━━━━━━━━━━━━━━━━━\u001b[0m \u001b[32m60.5/60.5 kB\u001b[0m \u001b[31m3.0 MB/s\u001b[0m eta \u001b[36m0:00:00\u001b[0m\n",
            "\u001b[2K   \u001b[90m━━━━━━━━━━━━━━━━━━━━━━━━━━━━━━━━━━━━━━━━\u001b[0m \u001b[32m69.3/69.3 kB\u001b[0m \u001b[31m3.9 MB/s\u001b[0m eta \u001b[36m0:00:00\u001b[0m\n",
            "\u001b[2K   \u001b[90m━━━━━━━━━━━━━━━━━━━━━━━━━━━━━━━━━━━━━━━━\u001b[0m \u001b[32m596.5/596.5 kB\u001b[0m \u001b[31m26.7 MB/s\u001b[0m eta \u001b[36m0:00:00\u001b[0m\n",
            "\u001b[2K   \u001b[90m━━━━━━━━━━━━━━━━━━━━━━━━━━━━━━━━━━━━━━━━\u001b[0m \u001b[32m202.6/202.6 kB\u001b[0m \u001b[31m9.8 MB/s\u001b[0m eta \u001b[36m0:00:00\u001b[0m\n",
            "\u001b[2K   \u001b[90m━━━━━━━━━━━━━━━━━━━━━━━━━━━━━━━━━━━━━━━━\u001b[0m \u001b[32m6.8/6.8 MB\u001b[0m \u001b[31m46.0 MB/s\u001b[0m eta \u001b[36m0:00:00\u001b[0m\n",
            "\u001b[2K   \u001b[90m━━━━━━━━━━━━━━━━━━━━━━━━━━━━━━━━━━━━━━━━\u001b[0m \u001b[32m53.0/53.0 kB\u001b[0m \u001b[31m2.7 MB/s\u001b[0m eta \u001b[36m0:00:00\u001b[0m\n",
            "\u001b[2K   \u001b[90m━━━━━━━━━━━━━━━━━━━━━━━━━━━━━━━━━━━━━━━━\u001b[0m \u001b[32m2.0/2.0 MB\u001b[0m \u001b[31m45.9 MB/s\u001b[0m eta \u001b[36m0:00:00\u001b[0m\n",
            "\u001b[2K   \u001b[90m━━━━━━━━━━━━━━━━━━━━━━━━━━━━━━━━━━━━━━━━\u001b[0m \u001b[32m1.7/1.7 MB\u001b[0m \u001b[31m39.5 MB/s\u001b[0m eta \u001b[36m0:00:00\u001b[0m\n",
            "\u001b[2K   \u001b[90m━━━━━━━━━━━━━━━━━━━━━━━━━━━━━━━━━━━━━━━━\u001b[0m \u001b[32m117.8/117.8 kB\u001b[0m \u001b[31m5.5 MB/s\u001b[0m eta \u001b[36m0:00:00\u001b[0m\n",
            "\u001b[2K   \u001b[90m━━━━━━━━━━━━━━━━━━━━━━━━━━━━━━━━━━━━━━━━\u001b[0m \u001b[32m526.7/526.7 kB\u001b[0m \u001b[31m20.9 MB/s\u001b[0m eta \u001b[36m0:00:00\u001b[0m\n",
            "\u001b[?25h  Building wheel for rpcq (setup.py) ... \u001b[?25l\u001b[?25hdone\n",
            "installed cirq.\n"
          ]
        }
      ],
      "source": [
        "try:\n",
        "    import cirq\n",
        "except ImportError:\n",
        "    print(\"installing cirq...\")\n",
        "    !pip install --quiet cirq\n",
        "    print(\"installed cirq.\")\n",
        "    import cirq\n",
        "\n",
        "import random"
      ]
    },
    {
      "cell_type": "markdown",
      "source": [
        "## Introduction and motivation for these algorithms\n",
        "\n",
        "Given a black box function f: {0,1}^n -> {0,1}, promised to be balanced or constant,\n",
        "we can show that quantum algorithms can determine its global nature (that is, constant or balanced) much faster than classical algotithms.\n",
        "A constant function returns either 0 or 1 for all inputs while a balanced function returns half 1s, half 0s.\n",
        "We call the function an oracle, and send it information to compute the value of the function for an input.\n",
        "We refer to this as querying the oracle.\n",
        "\n",
        "In the case of the Deutsch and the Deutsch-Jozsa algorithms, we can determine the global\n",
        "property of the function with just a single query to the oracle by desinging a\n",
        "quantum circuit that utilizes quantum parallelism and a phase kickback trick to encode the global property.\n",
        "The phase kickback trick utilizes quantum intereference, either constructive or desctructive, when we measure.\n",
        "\n",
        "A classical computer does not have the same computational ability. The minimum number of queries to the oracle to discern the function's global property on a classical computer is garuanteed to be more than the number of queries conducted by quantum algorithms.\n",
        "In the case of the f: {0,1} -> {0,1}, a classical algorithm needs a minmum 2 queries to the oracle while\n",
        "in the case of f: {0,1}^n -> {0,1}, a classical algorithm needs a minimum of 2^n/2 + 1 queries to the oracle.\n",
        "In both cases, the quantum Deutsch and Deutsch-Jozsa algorithms, respectively, need only a single query.\n",
        "This demonstrates in the generalized case that the quantum Deutsch-Jozsa algorithm provides exponential speedup."
      ],
      "metadata": {
        "id": "V7amaV6duVw2"
      }
    },
    {
      "cell_type": "markdown",
      "source": [
        "## The Deutsch algorithm\n",
        "\n",
        "Simplification to the case of n = 1 gives us four possible functions represented by the truth table below\n",
        "\n",
        "| x | f_0(x) | f_1(x) | f_x(x) | f_notx(x) |\n",
        "|---|--------|--------|--------|-----------|\n",
        "| 0 |    0   |  1     |   0    |  1        |\n",
        "| 1 |     0  |    1   |   1    |   0       |\n",
        "\n",
        "The global nature of this function, whichever is chosen, can be found with just a single query to the oracle as discussed above.\n",
        "\n",
        "### Problem Statement\n",
        "\n",
        "Bob and Alice wish to see how fast they can solve a problem together while Bob hides information from Alice. Bob tells Alice that he is going to construct a function of the type described above. That is, he constructs a function of the form f: {0,1}^n -> {0,1} and promises Alice that it will be either constant or balanced. Bob asks Alice to discern the global propety of the function in as few queries as possible. She can query his black box function by sending it n bits of information each time. The pair agree to the case of n=1 to begin.\n",
        "\n",
        "Alice has read \"Mike and Ike's\" book Quantum Computation and Quantum Information and decides that she can build a quantum circuit to implement Deutsch's algorithm to solve this problem.\n"
      ],
      "metadata": {
        "id": "cp-Z8KcsxcyQ"
      }
    },
    {
      "cell_type": "markdown",
      "source": [
        "## Implementation of the Deutsch algorithm"
      ],
      "metadata": {
        "id": "g-1tFk5q-hPS"
      }
    },
    {
      "cell_type": "code",
      "source": [
        "# First, Bob builds a custom gate to encode the operation of his blackbox function to be used in the Alice's circuit\n",
        "# The blackbox oracle, unbeknowst to the Alice, knows whether the function is constant or balanced based on Bob's choice\n",
        "# Given the case of n=1, there are 4 functions that can exist as exhibited in the truth table above\n",
        "# Bob thus encodes his blackbox to operate in one of 4 ways on the qubit that Alice sends into his function. His choice of function determines which computation is run\n",
        "# Note that while Bob is aware of the function's global property, he only computes the function's values for the n (qu)bits Alice sends him. He does not tell her the answer explicitly\n",
        "class bobs_deutsch_oracle(cirq.Gate):\n",
        "\n",
        "  def __init__(self, function_type: str):\n",
        "        super(bobs_deutsch_oracle, self)\n",
        "        self.function_type = function_type\n",
        "\n",
        "  def _num_qubits_(self) -> int:\n",
        "    return 2\n",
        "\n",
        "  def _decompose_(self, qubits):\n",
        "    if self.function_type == \"constant_0\":\n",
        "      yield cirq.IdentityGate(2).on(qubits[0], qubits[1])\n",
        "    elif self.function_type == \"constant_1\":\n",
        "      yield cirq.X(qubits[1])\n",
        "    elif self.function_type == \"balanced_x\":\n",
        "      yield cirq.CNOT(qubits[0], qubits[1])\n",
        "    elif self.function_type == \"balanced_notx\":\n",
        "      yield [cirq.CNOT(qubits[0], qubits[1]), cirq.X(qubits[1])]\n",
        "\n",
        "  def _circuit_diagram_info_(self, args):\n",
        "        return [\"deutsch\"] * self._num_qubits_()\n"
      ],
      "metadata": {
        "id": "-rBbJOuowwET"
      },
      "execution_count": 2,
      "outputs": []
    },
    {
      "cell_type": "code",
      "source": [
        "# Now Alice designs her quantum circuit\n",
        "# She builds it to interact with the black box oracle that Bob will configure based on his choice of the function\n",
        "# Wisely, she designs the circuit in the form of Deutsch's alrogithm to employ quantum parallelism, a phase kickback trick, and finally quantum interference\n",
        "# By designing her algorithm this way, she need query Bob's blackbox function within her circuit only a single time to discern the function's global nature\n",
        "def alices_deutsch_algorithm(function_type: str, repetitions: int = 1) -> int:\n",
        "\n",
        "  query_register = cirq.LineQubit(0)\n",
        "  answer_qubit = cirq.LineQubit(1)\n",
        "\n",
        "  # flip the answer qubit to |1>\n",
        "  moment_0 = cirq.Moment(cirq.X(answer_qubit))\n",
        "  # apply Hadamard gate to the qubit in the query register\n",
        "  moment_1 = cirq.Moment(cirq.H.on_each([query_register, answer_qubit]))\n",
        "  # apply the quantum deutsch oracle\n",
        "  moment_2 = [cirq.Moment(bobs_deutsch_oracle(function_type).on(query_register, answer_qubit))]\n",
        "  # apply Hadamard again to the qubit in the query register\n",
        "  moment_3 = cirq.Moment(cirq.H.on_each(query_register))\n",
        "  # measure the query registrer\n",
        "  moment_4 = cirq.Moment(cirq.measure(query_register, key='result'))\n",
        "\n",
        "  circuit = cirq.Circuit((moment_0, moment_1, moment_2, moment_3, moment_4))\n",
        "\n",
        "  print(circuit)\n",
        "  sim = cirq.Simulator()\n",
        "  return sim.run(circuit, repetitions=repetitions)\n"
      ],
      "metadata": {
        "id": "qH1zvmsz_MD0"
      },
      "execution_count": 3,
      "outputs": []
    },
    {
      "cell_type": "code",
      "source": [
        "# create the list of possible black box functions for the oracle\n",
        "possible_functions = [\"constant_0\", \"constant_1\", \"balanced_x\", \"balanced_notx\"]\n",
        "# Alice's dictionary that intelligently decodes her quantum algorithm's results\n",
        "decoding = {0: \"constant\", 1: \"balanced\"}\n",
        "\n",
        "# Bob picks one of the possible functions at random\n",
        "bobs_choice = random.choice(possible_functions)\n",
        "print(\"Bob has randomly chosen the \" + bobs_choice + \" function.\\n\")\n",
        "\n",
        "# Alice runs her algorithm with a single query to the oracle to discern the global nature of the function\n",
        "print(\"Making intelligent use of Bob's black box oracle, Alice constructs her quantum ciruit as so: \\n\")\n",
        "response = alices_deutsch_algorithm(bobs_choice)\n",
        "print(f\"\\nShe runs her quantum algorithm and records a final qubit query register |(f(0) + f(1) mod 2)> in the state: |{response.measurements['result'][0][0]}>.\\n\")\n",
        "print(f\"She determines immediately, with just one query to the oracle, that the function is {decoding[response.measurements['result'][0][0]].upper()}.\\n\")"
      ],
      "metadata": {
        "colab": {
          "base_uri": "https://localhost:8080/"
        },
        "id": "CD5RbFostZki",
        "outputId": "0aebbb29-39a7-4ee6-dad9-b90288b104ab"
      },
      "execution_count": 4,
      "outputs": [
        {
          "output_type": "stream",
          "name": "stdout",
          "text": [
            "Bob has randomly chosen the balanced_notx function.\n",
            "\n",
            "Making intelligent use of Bob's black box oracle, Alice constructs her quantum ciruit as so: \n",
            "\n",
            "0: ───────H───deutsch───H───M('result')───\n",
            "              │\n",
            "1: ───X───H───deutsch─────────────────────\n",
            "\n",
            "She runs her quantum algorithm and records a final qubit query register |(f(0) + f(1) mod 2)> in the state: |1>.\n",
            "\n",
            "She determines immediately, with just one query to the oracle, that the function is BALANCED.\n",
            "\n"
          ]
        }
      ]
    },
    {
      "cell_type": "code",
      "source": [
        "# Indeed, one might wonder whether Alice just got lucky? Did she just have a high probabilty of being correct?\n",
        "# The answer is no. She has engineered her algorithm to be fully deterministic\n",
        "# We can illustrate this as so:\n",
        "# Allow Bob to again randomly choose a function, and this time we allow Alice to run her algorithm #repetitions times\n",
        "# We find that Alice is correct in all #repetitions attempts. Exponentially increasing the number of repeititions will never change any single output of the algorithm\n",
        "repetitions = 15\n",
        "# repetitions = 500\n",
        "bobs_choice = random.choice(possible_functions)\n",
        "print(\"This time, Bob has randomly chosen the \" + bobs_choice + \" function.\\n\")\n",
        "\n",
        "print(\"Again, Alice's quantum ciruit is: \\n\")\n",
        "\n",
        "response_2 = alices_deutsch_algorithm(bobs_choice, repetitions=repetitions)\n",
        "print(f\"\\nAlice runs her algorithm {repetitions} times and determines in each case that that the function is:\")\n",
        "for i in range(repetitions):\n",
        "  print(decoding[response_2.measurements['result'][0][0]].upper())"
      ],
      "metadata": {
        "colab": {
          "base_uri": "https://localhost:8080/"
        },
        "id": "0RsDfPbmwBQ0",
        "outputId": "eadf7c54-3abf-46fe-97c2-ff477526fa07"
      },
      "execution_count": 5,
      "outputs": [
        {
          "output_type": "stream",
          "name": "stdout",
          "text": [
            "This time, Bob has randomly chosen the constant_0 function.\n",
            "\n",
            "Again, Alice's quantum ciruit is: \n",
            "\n",
            "0: ───────H───deutsch───H───M('result')───\n",
            "              │\n",
            "1: ───X───H───deutsch─────────────────────\n",
            "\n",
            "Alice runs her algorithm 15 times and determines in each case that that the function is:\n",
            "CONSTANT\n",
            "CONSTANT\n",
            "CONSTANT\n",
            "CONSTANT\n",
            "CONSTANT\n",
            "CONSTANT\n",
            "CONSTANT\n",
            "CONSTANT\n",
            "CONSTANT\n",
            "CONSTANT\n",
            "CONSTANT\n",
            "CONSTANT\n",
            "CONSTANT\n",
            "CONSTANT\n",
            "CONSTANT\n"
          ]
        }
      ]
    },
    {
      "cell_type": "markdown",
      "source": [
        "## The Deutsch-Jozsa algorithm\n",
        "\n",
        "For the general case of any integer n greater than one, the Deutsch-Jozsa algorithm can still solve this problem with only a single query to the oracle. We expand our query register to n qubits, but otherwise the gates in our quantum circuit are identical with the generalization that the Deutsch (Deutsch-Jozsa) gate acts on the entire query register. Thus, one must be very careful to consider all possible combinations for the available balanced and constant functions while constructing the inner workings of the blackbox."
      ],
      "metadata": {
        "id": "le-8-Hdjm3zL"
      }
    },
    {
      "cell_type": "code",
      "source": [],
      "metadata": {
        "id": "72o10KIVnlQ5"
      },
      "execution_count": null,
      "outputs": []
    }
  ]
}