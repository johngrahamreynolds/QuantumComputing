{
  "nbformat": 4,
  "nbformat_minor": 0,
  "metadata": {
    "colab": {
      "provenance": [],
      "authorship_tag": "ABX9TyPX3s5h8XmR3nv77ZqA2zxY",
      "include_colab_link": true
    },
    "kernelspec": {
      "name": "python3",
      "display_name": "Python 3"
    },
    "language_info": {
      "name": "python"
    }
  },
  "cells": [
    {
      "cell_type": "markdown",
      "metadata": {
        "id": "view-in-github",
        "colab_type": "text"
      },
      "source": [
        "<a href=\"https://colab.research.google.com/github/johngrahamreynolds/QuantumComputing/blob/main/canonical_algorithms/deutsch%E2%80%93jozsa.ipynb\" target=\"_parent\"><img src=\"https://colab.research.google.com/assets/colab-badge.svg\" alt=\"Open In Colab\"/></a>"
      ]
    },
    {
      "cell_type": "markdown",
      "source": [
        "## The Deutsch and Deutsch–Jozsa algorithms\n",
        "#### This Colab implements the Deutsch algorithm using Cirq before discussing its generalization, the Deutsch–Jozsa algorithm. Lastly, we examine the ability of Anthropic's LLM 'Claude' to generate efficient and correct code for the implementation of this algorithm.\n",
        "\n",
        "###### johngrahamreynolds@gmail.com"
      ],
      "metadata": {
        "id": "eQvbTbkVC0O9"
      }
    },
    {
      "cell_type": "markdown",
      "source": [
        "First we install Cirq and import relevant packages to our workspace"
      ],
      "metadata": {
        "id": "k8lTdnpsuNz3"
      }
    },
    {
      "cell_type": "code",
      "execution_count": 2,
      "metadata": {
        "id": "oR5RJFQqCKAL",
        "outputId": "700f7731-004c-4d7a-98ff-72156df9130a",
        "colab": {
          "base_uri": "https://localhost:8080/"
        }
      },
      "outputs": [
        {
          "output_type": "stream",
          "name": "stdout",
          "text": [
            "installing cirq...\n",
            "\u001b[2K     \u001b[90m━━━━━━━━━━━━━━━━━━━━━━━━━━━━━━━━━━━━━━━━\u001b[0m \u001b[32m45.6/45.6 kB\u001b[0m \u001b[31m1.5 MB/s\u001b[0m eta \u001b[36m0:00:00\u001b[0m\n",
            "\u001b[?25h  Preparing metadata (setup.py) ... \u001b[?25l\u001b[?25hdone\n",
            "\u001b[2K   \u001b[90m━━━━━━━━━━━━━━━━━━━━━━━━━━━━━━━━━━━━━━━━\u001b[0m \u001b[32m1.9/1.9 MB\u001b[0m \u001b[31m21.3 MB/s\u001b[0m eta \u001b[36m0:00:00\u001b[0m\n",
            "\u001b[2K   \u001b[90m━━━━━━━━━━━━━━━━━━━━━━━━━━━━━━━━━━━━━━━━\u001b[0m \u001b[32m532.7/532.7 kB\u001b[0m \u001b[31m25.1 MB/s\u001b[0m eta \u001b[36m0:00:00\u001b[0m\n",
            "\u001b[2K   \u001b[90m━━━━━━━━━━━━━━━━━━━━━━━━━━━━━━━━━━━━━━━━\u001b[0m \u001b[32m60.5/60.5 kB\u001b[0m \u001b[31m3.4 MB/s\u001b[0m eta \u001b[36m0:00:00\u001b[0m\n",
            "\u001b[2K   \u001b[90m━━━━━━━━━━━━━━━━━━━━━━━━━━━━━━━━━━━━━━━━\u001b[0m \u001b[32m69.3/69.3 kB\u001b[0m \u001b[31m4.3 MB/s\u001b[0m eta \u001b[36m0:00:00\u001b[0m\n",
            "\u001b[2K   \u001b[90m━━━━━━━━━━━━━━━━━━━━━━━━━━━━━━━━━━━━━━━━\u001b[0m \u001b[32m596.5/596.5 kB\u001b[0m \u001b[31m27.5 MB/s\u001b[0m eta \u001b[36m0:00:00\u001b[0m\n",
            "\u001b[2K   \u001b[90m━━━━━━━━━━━━━━━━━━━━━━━━━━━━━━━━━━━━━━━━\u001b[0m \u001b[32m202.8/202.8 kB\u001b[0m \u001b[31m11.2 MB/s\u001b[0m eta \u001b[36m0:00:00\u001b[0m\n",
            "\u001b[2K   \u001b[90m━━━━━━━━━━━━━━━━━━━━━━━━━━━━━━━━━━━━━━━━\u001b[0m \u001b[32m6.8/6.8 MB\u001b[0m \u001b[31m50.3 MB/s\u001b[0m eta \u001b[36m0:00:00\u001b[0m\n",
            "\u001b[2K   \u001b[90m━━━━━━━━━━━━━━━━━━━━━━━━━━━━━━━━━━━━━━━━\u001b[0m \u001b[32m53.0/53.0 kB\u001b[0m \u001b[31m3.4 MB/s\u001b[0m eta \u001b[36m0:00:00\u001b[0m\n",
            "\u001b[2K   \u001b[90m━━━━━━━━━━━━━━━━━━━━━━━━━━━━━━━━━━━━━━━━\u001b[0m \u001b[32m2.0/2.0 MB\u001b[0m \u001b[31m38.5 MB/s\u001b[0m eta \u001b[36m0:00:00\u001b[0m\n",
            "\u001b[2K   \u001b[90m━━━━━━━━━━━━━━━━━━━━━━━━━━━━━━━━━━━━━━━━\u001b[0m \u001b[32m1.7/1.7 MB\u001b[0m \u001b[31m33.1 MB/s\u001b[0m eta \u001b[36m0:00:00\u001b[0m\n",
            "\u001b[2K   \u001b[90m━━━━━━━━━━━━━━━━━━━━━━━━━━━━━━━━━━━━━━━━\u001b[0m \u001b[32m117.8/117.8 kB\u001b[0m \u001b[31m6.1 MB/s\u001b[0m eta \u001b[36m0:00:00\u001b[0m\n",
            "\u001b[2K   \u001b[90m━━━━━━━━━━━━━━━━━━━━━━━━━━━━━━━━━━━━━━━━\u001b[0m \u001b[32m526.7/526.7 kB\u001b[0m \u001b[31m22.2 MB/s\u001b[0m eta \u001b[36m0:00:00\u001b[0m\n",
            "\u001b[?25h  Building wheel for rpcq (setup.py) ... \u001b[?25l\u001b[?25hdone\n",
            "installed cirq.\n"
          ]
        }
      ],
      "source": [
        "try:\n",
        "    import cirq\n",
        "except ImportError:\n",
        "    print(\"installing cirq...\")\n",
        "    !pip install --quiet cirq\n",
        "    print(\"installed cirq.\")\n",
        "    import cirq\n",
        "\n",
        "import random\n",
        "from typing import List, Iterable"
      ]
    },
    {
      "cell_type": "markdown",
      "source": [
        "## Introduction and motivation for these algorithms\n",
        "\n",
        "Given a black box function $f: \\{0,1\\}^n → \\{0,1\\}$, promised to be balanced or constant,\n",
        "we can show that quantum algorithms can determine its global nature (that is, constant or balanced) much faster than classical algotithms.\n",
        "A constant function returns either $0$ or $1$ for all inputs while a balanced function returns half $1$s, half $0$s.\n",
        "We call the function an oracle, and send it information to compute the value of the function for an input.\n",
        "We refer to this as querying the oracle.\n",
        "\n",
        "In the case of the Deutsch and the Deutsch-Jozsa algorithms, we can determine the global\n",
        "property of the function with just a single query to the oracle by desinging a\n",
        "quantum circuit that utilizes quantum parallelism and a phase kickback trick to encode the global property.\n",
        "The phase kickback trick utilizes quantum intereference, either constructive or desctructive, when we measure.\n",
        "\n",
        "A classical computer does not have the same computational ability. The minimum number of queries to the oracle to discern the function's global property on a classical computer is garuanteed to be more than the number of queries conducted by quantum algorithms.\n",
        "In the case of the $f: \\{ 0,1\\} → \\{0,1\\}$, a classical algorithm needs a minmum 2 queries to the oracle. In the case of $f: \\{ 0,1\\}^n → \\{0,1\\}$, a classical algorithm needs a minimum of $2^{n-1} + 1$ queries to the oracle.\n",
        "In both cases, the quantum Deutsch and Deutsch-Jozsa algorithms, respectively, need only a single query.\n",
        "This demonstrates in the generalized case that the quantum Deutsch-Jozsa algorithm provides exponential speedup over any classical computer's ability to solve this problem."
      ],
      "metadata": {
        "id": "V7amaV6duVw2"
      }
    },
    {
      "cell_type": "markdown",
      "source": [
        "## The Deutsch algorithm\n",
        "\n",
        "Simplification to the case of $n = 1$ gives us four possible functions represented by the truth table below\n",
        "\n",
        "| $x$ | $f_{0}$($x$) | $f_{1}$($x$) | $f_{x}$($x$) | $f_{\\bar{x}}$($x$) |\n",
        "|---|----------------|--------------|--------------|--------------------|\n",
        "| 0 |    0           |  1           |   0          |  1                 |\n",
        "| 1 |     0          |    1         |   1          |   0                |\n",
        "\n",
        "The global nature of this function, whichever is chosen, can be found with just a single query to the oracle as discussed above.\n",
        "\n",
        "### Problem Statement\n",
        "\n",
        "Bob and Alice wish to see how fast they can solve a problem together while Bob hides information from Alice. Bob tells Alice that he is going to construct a function of the type described above. That is, he constructs a function of the form $f: \\{ 0,1\\}^n → \\{0,1\\}$ and promises Alice that it will be either constant or balanced. Bob asks Alice to discern the global propety of the function in as few queries as possible. She can query his black box function by sending it $n$ bits of information each time. The pair agree to the case of $n=1$ to begin.\n",
        "\n",
        "Alice has read \"Mike and Ike's\" book Quantum Computation and Quantum Information and decides that she can build a quantum circuit to implement Deutsch's algorithm to solve this problem.\n"
      ],
      "metadata": {
        "id": "cp-Z8KcsxcyQ"
      }
    },
    {
      "cell_type": "markdown",
      "source": [
        "## Implementation of the Deutsch algorithm"
      ],
      "metadata": {
        "id": "g-1tFk5q-hPS"
      }
    },
    {
      "cell_type": "code",
      "source": [
        "# First, Bob builds a custom gate to encode the operation of his blackbox function to be used in the Alice's circuit\n",
        "# The blackbox oracle, unbeknowst to the Alice, knows whether the function is constant or balanced based on Bob's choice\n",
        "# Given the case of n=1, there are 4 functions that can exist as exhibited in the truth table above\n",
        "# Bob thus encodes his blackbox to operate in one of 4 ways on the qubit that Alice sends into his function. His choice of function determines which computation is run\n",
        "# Note that while Bob is aware of the function's global property, he only computes the function's values for the n (qu)bits Alice sends him. He does not tell her the answer explicitly\n",
        "\n",
        "class bobs_deutsch_oracle(cirq.Gate):\n",
        "\n",
        "  def __init__(self, function_type: str):\n",
        "        super(bobs_deutsch_oracle, self)\n",
        "        self.function_type = function_type\n",
        "\n",
        "  def _num_qubits_(self) -> int:\n",
        "    return 2\n",
        "\n",
        "  def _decompose_(self, qubits):\n",
        "\n",
        "    if self.function_type == \"constant_0\":\n",
        "      yield cirq.IdentityGate(2).on(qubits[0], qubits[1])\n",
        "\n",
        "    elif self.function_type == \"constant_1\":\n",
        "      yield cirq.X(qubits[0])\n",
        "\n",
        "    elif self.function_type == \"balanced_x\":\n",
        "      yield cirq.CNOT(qubits[0], qubits[1])\n",
        "\n",
        "    elif self.function_type == \"balanced_notx\":\n",
        "      yield [cirq.CNOT(qubits[0], qubits[1]), cirq.X(qubits[0])]\n",
        "\n",
        "  def _circuit_diagram_info_(self, args):\n",
        "        return [\"deutsch\"] * self._num_qubits_()\n"
      ],
      "metadata": {
        "id": "-rBbJOuowwET"
      },
      "execution_count": 3,
      "outputs": []
    },
    {
      "cell_type": "code",
      "source": [
        "# Now Alice designs her Deutsch quantum circuit\n",
        "# She builds it to interact with the black box oracle that Bob will configure based on his choice of the function\n",
        "# Wisely, she designs the circuit in the form of Deutsch's alrogithm to employ quantum parallelism, a phase kickback trick, and finally quantum interference\n",
        "# By designing her algorithm this way, she need query Bob's blackbox function within her circuit only a single time to discern the function's global nature\n",
        "\n",
        "def alices_deutsch_algorithm(function_type: str, repetitions: int = 1) -> cirq.Result:\n",
        "\n",
        "  query_register = cirq.LineQubit(0)\n",
        "  answer_qubit = cirq.LineQubit(1)\n",
        "\n",
        "  # flip the answer qubit to |1>\n",
        "  moment_0 = cirq.Moment(cirq.X(answer_qubit))\n",
        "\n",
        "  # apply Hadamard gate to the qubit in the query register and the answer qubit\n",
        "  moment_1 = cirq.Moment(cirq.H.on_each([query_register, answer_qubit]))\n",
        "\n",
        "  # apply the quantum deutsch oracle\n",
        "  moment_2 = [cirq.Moment(bobs_deutsch_oracle(function_type).on(query_register, answer_qubit))]\n",
        "\n",
        "  # apply Hadamard again to the qubit in the query register\n",
        "  moment_3 = cirq.Moment(cirq.H.on_each(query_register))\n",
        "\n",
        "  # measure the query registrer\n",
        "  moment_4 = cirq.Moment(cirq.measure(query_register, key='result'))\n",
        "\n",
        "  circuit = cirq.Circuit((moment_0, moment_1, moment_2, moment_3, moment_4))\n",
        "\n",
        "  print(circuit)\n",
        "  sim = cirq.Simulator()\n",
        "  return sim.run(circuit, repetitions=repetitions)\n"
      ],
      "metadata": {
        "id": "qH1zvmsz_MD0"
      },
      "execution_count": 4,
      "outputs": []
    },
    {
      "cell_type": "code",
      "source": [
        "# create the list of possible black box functions for the oracle\n",
        "possible_deutsch_functions = [\"constant_0\", \"constant_1\", \"balanced_x\", \"balanced_notx\"]\n",
        "\n",
        "# Alice's dictionary that intelligently decodes her quantum algorithm's results\n",
        "decoding = {0: \"constant\", 1: \"balanced\"}\n",
        "\n",
        "# Bob picks one of the possible functions at random\n",
        "bobs_choice = random.choice(possible_deutsch_functions)\n",
        "print(\"Bob has randomly chosen the \" + bobs_choice + \" function.\\n\")\n",
        "\n",
        "# Alice runs her algorithm with a single query to the oracle to discern the global nature of the function\n",
        "print(\"Making intelligent use of Bob's black box oracle, Alice constructs her quantum ciruit as so: \\n\")\n",
        "response = alices_deutsch_algorithm(bobs_choice)\n",
        "print(f\"\\nShe runs her quantum algorithm and records a final qubit query register |(f(0) + f(1) mod 2)> in the state: |{response.measurements['result'][0][0]}>.\\n\")\n",
        "print(f\"She determines immediately, with just one query to the oracle, that the function is {decoding[response.measurements['result'][0][0]].upper()}.\\n\")"
      ],
      "metadata": {
        "colab": {
          "base_uri": "https://localhost:8080/"
        },
        "id": "CD5RbFostZki",
        "outputId": "72654f87-b645-4785-a7ea-be0469c39bd9"
      },
      "execution_count": 5,
      "outputs": [
        {
          "output_type": "stream",
          "name": "stdout",
          "text": [
            "Bob has randomly chosen the balanced_x function.\n",
            "\n",
            "Making intelligent use of Bob's black box oracle, Alice constructs her quantum ciruit as so: \n",
            "\n",
            "0: ───────H───deutsch───H───M('result')───\n",
            "              │\n",
            "1: ───X───H───deutsch─────────────────────\n",
            "\n",
            "She runs her quantum algorithm and records a final qubit query register |(f(0) + f(1) mod 2)> in the state: |1>.\n",
            "\n",
            "She determines immediately, with just one query to the oracle, that the function is BALANCED.\n",
            "\n"
          ]
        }
      ]
    },
    {
      "cell_type": "code",
      "source": [
        "# Indeed, one might wonder whether Alice just got lucky? Did she just have a high probabilty of being correct?\n",
        "# The answer is no. She has engineered her algorithm to be fully deterministic\n",
        "\n",
        "# We can illustrate this as so:\n",
        "# Allow Bob to again randomly choose a function, and, this time, allow Alice to run her algorithm #(repetitions) times\n",
        "# We find that Alice is correct in all #(repetitions) attempts. Exponentially increasing the number of repeititions will never change any single output of the algorithm\n",
        "\n",
        "repetitions = 15\n",
        "# repetitions = 500\n",
        "bobs_choice = random.choice(possible_deutsch_functions)\n",
        "print(\"This time, Bob has randomly chosen the \" + bobs_choice + \" function.\\n\")\n",
        "\n",
        "print(\"Again, Alice's quantum ciruit is: \\n\")\n",
        "\n",
        "response_2 = alices_deutsch_algorithm(bobs_choice, repetitions=repetitions)\n",
        "print(f\"\\nAlice runs her algorithm {repetitions} times and determines in each case that that the function is:\")\n",
        "for i in range(repetitions):\n",
        "  print(decoding[response_2.measurements['result'][0][0]].upper())"
      ],
      "metadata": {
        "colab": {
          "base_uri": "https://localhost:8080/"
        },
        "id": "0RsDfPbmwBQ0",
        "outputId": "4c287853-0d64-4699-ef08-22d63fce9168"
      },
      "execution_count": 7,
      "outputs": [
        {
          "output_type": "stream",
          "name": "stdout",
          "text": [
            "This time, Bob has randomly chosen the constant_0 function.\n",
            "\n",
            "Again, Alice's quantum ciruit is: \n",
            "\n",
            "0: ───────H───deutsch───H───M('result')───\n",
            "              │\n",
            "1: ───X───H───deutsch─────────────────────\n",
            "\n",
            "Alice runs her algorithm 15 times and determines in each case that that the function is:\n",
            "CONSTANT\n",
            "CONSTANT\n",
            "CONSTANT\n",
            "CONSTANT\n",
            "CONSTANT\n",
            "CONSTANT\n",
            "CONSTANT\n",
            "CONSTANT\n",
            "CONSTANT\n",
            "CONSTANT\n",
            "CONSTANT\n",
            "CONSTANT\n",
            "CONSTANT\n",
            "CONSTANT\n",
            "CONSTANT\n"
          ]
        }
      ]
    },
    {
      "cell_type": "markdown",
      "source": [
        "## The Deutsch-Jozsa algorithm\n",
        "\n",
        "For the general case of any integer $n > 1$, the Deutsch-Jozsa algorithm can still solve this problem with only a single query to the oracle. We expand our query register to $n$ qubits, but otherwise the gates in our quantum circuit are identical with the generalization that the Deutsch gate (now called the Deutsch-Jozsa gate) acts on the entire $n$ qubit query register. Rather than considering all possible constant or balanced mappings from the domain $\\{0,1\\}^{n}$ to the target space $\\{0,1\\}$ (as we did in the case of $n=1$), we can instead simply have Bob secretly select from only a small subset of the possible functions. Trying to configure the blackbox to operate exactly on each $n$-bitstring input as we did before turns into a unwiedly task very, very quickly. We can examine this as follows.\n",
        "\n",
        "In the generalized case, there still exist only two constant functions: $f_{0}: \\{ 0,1\\}^n → \\{0\\}$ and $f_{1}: \\{ 0,1\\}^n → \\{1\\}$. The case of balanced functions is much trickier. Given $2^n$ possible bit strings, a balanced function must map exactly $2^{n-1}$ of these to $0$ and the other $2^{n-1}$ to $1$. That is, we have $2^{n}$ choose $2^{n-1}$ different ways of constructing a balanced function. We can define this mathematically with a function $f_b(n)$ that counts the number of possible balanced functions for any $n$ by expanding the binomial coefficient as  \n",
        "\n",
        "$ f_b(n) = { 2^{n} \\choose 2^{n-1}} = \\frac{2^{n}!}{2^{n-1}!(2^{n}-2^{n-1})!}$\n",
        "\n",
        "This function grows both exponentially and factorially. In the example of the simplified Deutsch algorithm from before we find the expected result of $f_b(1)=2$ as we saw in the truth table. For the next non-trivial cases beyond that, we have first a modest selection of $f_b(2) = 6$ and then a far less friendly $f_b(3) = 70$ possibilities for distinct balanced functions. Already for the case $n=9$ we have that $f_b(9) ≈ 10^{152}$, which is indeed approximately $10^{70}$ times larger than the current hypothetical upperbound on the number of atoms in the universe at ~ $10^{82}$ atoms. Forgetting for a brief second the restrictions of quantum mechanics and its associated trickery, even if one were to write down the exact domain to target space mapping (perhaps again in a truth table) of all possible balanced functions with a single atom for each mark in the case of $n=9$, one would be required access to not only every atom in our universe but also every atom in $10^{70}$ other universes of the same mass density. No further evidence should be required to demonstrate the futility of such a task.\n",
        "\n",
        "Returning now to our quantum mechanical reality and the problem at hand, we can allow Bob to secretly (without Alice's awareness) select just a small subset of the possible balanced functions for any $n$. In addition to the two constant maps, Bob can choose only two of the possible balanced functions. With careful consideration, his choices for the two balanced functions would appropriately force any classical computer's solution attempt to make exponentially more queries to the oracle than Alice's appropriately constructed quantum algorithm. Bob's choices can additionally find an exact analogue to the inner workings of the oracle in the case of $n=1$ as we will later see. Bob's first appropriate balanced function choice follows as a mapping which takes the first $2^{n-1}$ bit strings to $0$, and the last $2^{n-1}$ bit strings to $1$. Likewise, his second choice for a balanced function is the target value swapping of the former. With these four choices for functions, a classical computer would be required to make $2^{n-1} + 1$ queries to the oracle in order to discern the the global property of the function.\n",
        "\n",
        "In the implementation of the algorithm below, we then allow for Bob to program his oracle to act in one of four ways dependent upon his choice from the restricted functions."
      ],
      "metadata": {
        "id": "le-8-Hdjm3zL"
      }
    },
    {
      "cell_type": "code",
      "source": [
        "# First, Bob builds a custom gate to encode the operation of his blackbox function to be used in the Alice's circuit\n",
        "# The blackbox oracle, unbeknowst to the Alice, knows whether the function is constant or balanced based on Bob's choice from the four restricted functions discussed above\n",
        "# Given that Bob only chooses from four types of functions, we can implement the deutsch-jozsa oracle in this case using the same code as above with different function types\n",
        "# The oracle acts on all n qubits in the query register\n",
        "\n",
        "class bobs_deutsch_jozsa_oracle(cirq.Gate):\n",
        "\n",
        "  def __init__(self, function_type: str, total_qubits: int):\n",
        "        super(bobs_deutsch_jozsa_oracle, self)\n",
        "        self.function_type = function_type\n",
        "        self.total_system_qubits = total_qubits\n",
        "\n",
        "  def _num_qubits_(self) -> int:\n",
        "    return self.total_system_qubits\n",
        "\n",
        "  def _decompose_(self, qubits):\n",
        "\n",
        "    if self.function_type == \"constant_0\":\n",
        "      for i in range(self._num_qubits_() - 1):\n",
        "        yield cirq.IdentityGate(2).on(qubits[i], qubits[-1])\n",
        "\n",
        "    elif self.function_type == \"constant_1\":\n",
        "      for i in range(self._num_qubits_() - 1):\n",
        "        yield cirq.X(qubits[i])\n",
        "\n",
        "    elif self.function_type == \"balanced_01\":\n",
        "      for i in range(int((self._num_qubits_() - 1)/2), self._num_qubits_() - 1):\n",
        "        yield cirq.CNOT(qubits[i], qubits[-1])\n",
        "\n",
        "    elif self.function_type == \"balanced_10\":\n",
        "      for i in range(0, int((self._num_qubits_() - 1) / 2)):\n",
        "        # yield [cirq.CNOT(qubits[i], qubits[-1]), cirq.X(qubits[i])]\n",
        "        yield [cirq.CNOT(qubits[i], qubits[-1])]\n",
        "\n",
        "  def _circuit_diagram_info_(self, args):\n",
        "        return [\"deutsch-jozsa\"] * self._num_qubits_()"
      ],
      "metadata": {
        "id": "t_QVuHEB8dRH"
      },
      "execution_count": 30,
      "outputs": []
    },
    {
      "cell_type": "code",
      "source": [
        "# Now Alice designs her Deutsch-Jozsa quantum circuit\n",
        "# She builds it to interact with the black box oracle that Bob will configure based on his choice for the global property of the function\n",
        "# Her cirquit is a simple generalization of the early case for n = 1. Her system now has n qubits in a uniform superposition in her query register\n",
        "\n",
        "def alices_deutsch_jozsa_algorithm(function_type: str, n: int, repetitions: int = 1) -> cirq.Result:\n",
        "\n",
        "  query_register = cirq.LineQubit.range(n)\n",
        "  answer_qubit = cirq.LineQubit(n)\n",
        "\n",
        "  # flip the answer qubit to |1>\n",
        "  moment_0 = cirq.Moment(cirq.X(answer_qubit))\n",
        "\n",
        "  # apply Hadamard gate to every qubit in system\n",
        "  moment_1 = cirq.Moment(cirq.H.on_each([query_register, answer_qubit]))\n",
        "\n",
        "  # apply the quantum deutsch-jozsa oracle to the full system register\n",
        "  moment_2 = [cirq.Moment(bobs_deutsch_jozsa_oracle(function_type, n+1).on(*query_register, answer_qubit))]\n",
        "\n",
        "  # apply Hadamard again to every qubit in the query register\n",
        "  moment_3 = cirq.Moment(cirq.H.on_each(query_register))\n",
        "\n",
        "  # measure the query registrer\n",
        "  moment_4 = cirq.Moment(cirq.measure(query_register, key='result'))\n",
        "\n",
        "  circuit = cirq.Circuit((moment_0, moment_1, moment_2, moment_3, moment_4))\n",
        "\n",
        "  # print(cirq.final_state_vector(circuit))\n",
        "\n",
        "  print(circuit)\n",
        "  sim = cirq.Simulator()\n",
        "  return sim.run(circuit, repetitions=repetitions)"
      ],
      "metadata": {
        "id": "72o10KIVnlQ5"
      },
      "execution_count": 31,
      "outputs": []
    },
    {
      "cell_type": "code",
      "source": [
        "# create the list of possible black box functions for the oracle\n",
        "possible_dj_functions = [\"constant_0\", \"constant_1\", \"balanced_01\", \"balanced_10\"]\n",
        "\n",
        "def format_output(final_states: list[int]) -> str:\n",
        "  output = \"\"\n",
        "  for i in final_states:\n",
        "    output += \"|\" + str(i) + \">\"\n",
        "  return output\n",
        "\n",
        "# Alice's dictionary that intelligently decodes her quantum algorithm's results\n",
        "def dj_decoding(final_states: list[int]) -> str:\n",
        "  zero_state = all(state == 0 for state in final_states)\n",
        "  if zero_state:\n",
        "    return \"constant\"\n",
        "  else:\n",
        "    return \"balanced\"\n",
        "\n",
        "# Bob picks one of the possible functions at random\n",
        "bobs_dj_choice = random.choice(possible_dj_functions)\n",
        "print(\"Bob has randomly chosen a \" + bobs_dj_choice + \" function.\\n\")\n",
        "\n",
        "# Alice and Bob agree on the number n\n",
        "n = 7\n",
        "\n",
        "# Alice runs her algorithm with a single query to the oracle to discern the global nature of the function\n",
        "print(\"Making use of Bob's black box oracle, Alice constructs her quantum ciruit as so: \\n\")\n",
        "dj_response = alices_deutsch_jozsa_algorithm(bobs_dj_choice, n)\n",
        "\n",
        "print(f\"\\nShe runs her quantum algorithm and records her final {n} qubit query register in the following state: {format_output(dj_response.measurements['result'][0])}.\\n\")\n",
        "print(f\"She determines immediately, with just one query to the oracle, that the function is {dj_decoding(dj_response.measurements['result'][0]).upper()}.\\n\")"
      ],
      "metadata": {
        "colab": {
          "base_uri": "https://localhost:8080/"
        },
        "id": "nxNunB5SXNyn",
        "outputId": "7ea6b50a-07d2-4f48-d4ec-3d0f3592d367"
      },
      "execution_count": 36,
      "outputs": [
        {
          "output_type": "stream",
          "name": "stdout",
          "text": [
            "Bob has randomly chosen a constant_1 function.\n",
            "\n",
            "Making use of Bob's black box oracle, Alice constructs her quantum ciruit as so: \n",
            "\n",
            "0: ───────H───deutsch-jozsa───H───M('result')───\n",
            "              │                   │\n",
            "1: ───────H───deutsch-jozsa───H───M─────────────\n",
            "              │                   │\n",
            "2: ───────H───deutsch-jozsa───H───M─────────────\n",
            "              │                   │\n",
            "3: ───────H───deutsch-jozsa───H───M─────────────\n",
            "              │                   │\n",
            "4: ───────H───deutsch-jozsa───H───M─────────────\n",
            "              │                   │\n",
            "5: ───────H───deutsch-jozsa───H───M─────────────\n",
            "              │                   │\n",
            "6: ───────H───deutsch-jozsa───H───M─────────────\n",
            "              │\n",
            "7: ───X───H───deutsch-jozsa─────────────────────\n",
            "\n",
            "She runs her quantum algorithm and records her final 7 qubit query register in the following state: |0>|0>|0>|0>|0>|0>|0>.\n",
            "\n",
            "She determines immediately, with just one query to the oracle, that the function is CONSTANT.\n",
            "\n"
          ]
        }
      ]
    },
    {
      "cell_type": "code",
      "source": [
        "# Again we allow Alice to run her experiment #repetitions times to confirm that it is fully deterministic using a single query to the oracle\n",
        "\n",
        "repetitions = 15\n",
        "# repetitions = 500\n",
        "bobs_second_dj_choice = random.choice(possible_dj_functions)\n",
        "print(\"This time, Bob has randomly chosen a \" + bobs_second_dj_choice + \" function.\\n\")\n",
        "\n",
        "print(\"Again, Alice's quantum ciruit is: \\n\")\n",
        "\n",
        "dj_response_2 = alices_deutsch_jozsa_algorithm(bobs_second_dj_choice, n, repetitions=repetitions)\n",
        "print(f\"\\nAlice runs her algorithm {repetitions} times and determines in each case using only a single query to the oracle that the function is:\")\n",
        "for i in range(repetitions):\n",
        "  print(dj_decoding(dj_response_2.measurements['result'][0]).upper())"
      ],
      "metadata": {
        "colab": {
          "base_uri": "https://localhost:8080/"
        },
        "id": "iEzJ3SH1ynKi",
        "outputId": "06ed8a68-fec3-432c-bd55-269824cd563d"
      },
      "execution_count": 37,
      "outputs": [
        {
          "output_type": "stream",
          "name": "stdout",
          "text": [
            "This time, Bob has randomly chosen a balanced_01 function.\n",
            "\n",
            "Again, Alice's quantum ciruit is: \n",
            "\n",
            "0: ───────H───deutsch-jozsa───H───M('result')───\n",
            "              │                   │\n",
            "1: ───────H───deutsch-jozsa───H───M─────────────\n",
            "              │                   │\n",
            "2: ───────H───deutsch-jozsa───H───M─────────────\n",
            "              │                   │\n",
            "3: ───────H───deutsch-jozsa───H───M─────────────\n",
            "              │                   │\n",
            "4: ───────H───deutsch-jozsa───H───M─────────────\n",
            "              │                   │\n",
            "5: ───────H───deutsch-jozsa───H───M─────────────\n",
            "              │                   │\n",
            "6: ───────H───deutsch-jozsa───H───M─────────────\n",
            "              │\n",
            "7: ───X───H───deutsch-jozsa─────────────────────\n",
            "\n",
            "Alice runs her algorithm 15 times and determines in each case using only a single query to the oracle that the function is:\n",
            "BALANCED\n",
            "BALANCED\n",
            "BALANCED\n",
            "BALANCED\n",
            "BALANCED\n",
            "BALANCED\n",
            "BALANCED\n",
            "BALANCED\n",
            "BALANCED\n",
            "BALANCED\n",
            "BALANCED\n",
            "BALANCED\n",
            "BALANCED\n",
            "BALANCED\n",
            "BALANCED\n"
          ]
        }
      ]
    },
    {
      "cell_type": "markdown",
      "source": [
        "## Analyzing Claude's code generation for the Deutsch-Jozsa algorithm\n",
        "\n",
        "Anthropic's LLM Claude has the capability to express mathematical equations and generate code. Naturally, \"he\" is familiar with the Deutsch-Jozsa algorithm and, if properly prompted, will attempt to generate an implementation of the algorithm in Cirq. It is well know that Gen AI is full of faults, especially in regards to cutting-edge science and technology. Careful review of code generated from LLMs like Claude is thus essential. In this final section we visit Claude's attempt at generating the Deutsch-Jozsa algorithm and dive into its (flawed) logic to further solidify our knowledge of the both the underlying theory and its immediate implementation in Cirq. We conclude with some optimistic comments on methods for bettering Gen AI in the regimes of code generation and mathematics."
      ],
      "metadata": {
        "id": "gW4VJTImknnV"
      }
    },
    {
      "cell_type": "code",
      "source": [
        "import cirq\n",
        "import numpy as np\n",
        "\n",
        "def deutsch_jozsa(n, oracle):\n",
        "    # Create a circuit with n+1 qubits\n",
        "    qubits = [cirq.LineQubit(i) for i in range(n+1)]\n",
        "    circuit = cirq.Circuit()\n",
        "\n",
        "    # Initialize the last qubit to |1>\n",
        "    circuit.append(cirq.X(qubits[-1]))\n",
        "\n",
        "    # Apply Hadamard gates to all qubits\n",
        "    circuit.append(cirq.H.on_each(qubits))\n",
        "\n",
        "    # Apply the oracle\n",
        "    circuit.append(oracle(qubits))\n",
        "\n",
        "    # Apply Hadamard gates to the first n qubits\n",
        "    circuit.append(cirq.H.on_each(qubits[:-1]))\n",
        "\n",
        "    # Measure the first n qubits\n",
        "    circuit.append(cirq.measure(*qubits[:-1], key='result'))\n",
        "\n",
        "    return circuit\n",
        "\n",
        "# Example oracle functions\n",
        "def constant_oracle(qubits):\n",
        "    # Always return 0 (identity operation)\n",
        "    return []\n",
        "\n",
        "def balanced_oracle(qubits):\n",
        "    # CNOT with the last qubit as control and all others as targets\n",
        "    return [cirq.CNOT(qubits[-1], qubit) for qubit in qubits[:-1]]\n",
        "\n",
        "# Run the algorithm\n",
        "def run_deutsch_jozsa(n, oracle):\n",
        "    circuit = deutsch_jozsa(n, oracle)\n",
        "    simulator = cirq.Simulator()\n",
        "    result = simulator.run(circuit, repetitions=1)\n",
        "    measurements = result.measurements['result'][0]\n",
        "    is_constant = all(bit == 0 for bit in measurements)\n",
        "    return \"Constant\" if is_constant else \"Balanced\"\n",
        "\n",
        "# Test the algorithm\n",
        "n = 3  # number of input qubits\n",
        "\n",
        "print(\"Testing with constant oracle:\")\n",
        "print(run_deutsch_jozsa(n, constant_oracle))\n",
        "\n",
        "print(\"\\nTesting with balanced oracle:\")\n",
        "print(run_deutsch_jozsa(n, balanced_oracle))"
      ],
      "metadata": {
        "colab": {
          "base_uri": "https://localhost:8080/"
        },
        "id": "D_45CHqRksC1",
        "outputId": "715acb7b-cfa1-4d13-e22f-904f4dc6b06b"
      },
      "execution_count": null,
      "outputs": [
        {
          "output_type": "stream",
          "name": "stdout",
          "text": [
            "Testing with constant oracle:\n",
            "Constant\n",
            "\n",
            "Testing with balanced oracle:\n",
            "Constant\n"
          ]
        }
      ]
    },
    {
      "cell_type": "code",
      "source": [],
      "metadata": {
        "id": "oJA4mhnCktqe"
      },
      "execution_count": null,
      "outputs": []
    }
  ]
}